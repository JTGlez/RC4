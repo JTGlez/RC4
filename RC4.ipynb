{
 "cells": [
  {
   "attachments": {},
   "cell_type": "markdown",
   "metadata": {},
   "source": [
    "# Práctica 1: Algoritmo RC4\n",
    "*CC. Dra. Rocío Aldeco-Pérez.*\n",
    "\n",
    "RC4 es un cifrado de flujo famoso por ser muy simple y rápido a nivel de software. Se han encontrado varias vulnerabilidades en RC4, lo que lo hace vulnerable especialmente cuando no se descarta el comienzo del flujo de clave de salida, o cuando se utilizan claves no aleatorias o relacionadas. Por esta razón, en 2015 IETF publicó el RFC 7465 para prohibir el uso de RC4 en TLS (un protocolo muy importante utilizado por los navegadores de Internet para asegurar las comunicaciones).\n",
    "\n",
    "RC4 genera un flujo de bits pseudoaleatorios (llamado flujo de clave). Como con cualquier cifrado de flujo, estos pueden ser utilizados para el cifrado combinándolo con el texto plano utilizando la operación XOR a nivel de bits. El descifrado se realiza de la misma manera (ya que XOR con los datos dados es una involución). Para generar el flujo de clave, el cifrado utiliza un estado interno secreto que consta de dos partes:\n",
    "\n",
    "1. Una permutación de los 256 posibles bytes (denominada \"S\" a continuación).\n",
    "2. Dos punteros de índice de 8 bits (denominados \"i\" y \"j\").\n",
    "\n",
    "La permutación se inicializa con una clave de longitud variable, típicamente entre 40 y 256 bits, utilizando el algoritmo de programación de clave (KSA). Una vez que esto se ha completado, se genera el flujo de bits utilizando el algoritmo de generación pseudoaleatorio (PRGA). Luego, este flujo de bits se combina mediante XOR con el texto plano dado."
   ]
  },
  {
   "cell_type": "code",
   "execution_count": 49,
   "metadata": {},
   "outputs": [],
   "source": [
    "# Key Scheduling Algorithm en Python.\n",
    "\n",
    "def KSA(key):\n",
    "    \"\"\"A partir de una clave dada genera una subclave de 256 bytes.\"\"\"\n",
    "    length = len(key)\n",
    "    s = list(range(256))\n",
    "    j = 0\n",
    "    for i in range(0, 256):\n",
    "        j = (j + s[i] + key[i % length]) % 256\n",
    "        s[i], s[j] = s[j], s[i]\n",
    "    return s"
   ]
  },
  {
   "attachments": {},
   "cell_type": "markdown",
   "metadata": {},
   "source": [
    "# Algoritmo de generación Pseudo-aleatoria\n",
    "\n",
    "El byte de salida se selecciona buscando los valores de S(i) y S(j), sumándolos módulo 256 y luego utilizando la suma como índice en S; S(S(i) + S(j)) se utiliza como un byte del flujo de clave, K.\n",
    "\n",
    "Durante tantas iteraciones como se necesiten, PRGA modifica el estado y produce un byte del flujo de clave. En cada iteración, la PRGA incrementa i, busca el elemento i-ésimo de S, S[i], y le suma j, intercambia los valores de S[i] y S[j], y luego utiliza la suma S[i] + S[j] (módulo 256) como índice para obtener un tercer elemento de S (el valor del flujo de clave K), que se XORéa con el siguiente byte del mensaje para producir el siguiente byte de cifrado o texto plano. Cada elemento de S se intercambia con otro elemento al menos una vez cada 256 iteraciones.\n",
    "\n",
    "```python\n",
    "i := 0\n",
    "j := 0\n",
    "while GeneratingOutput:\n",
    "    i := (i + 1) mod 256\n",
    "    j := (j + S[i]) mod 256\n",
    "    swap values of S[i] and S[j]\n",
    "    K := S[(S[i] + S[j]) mod 256]\n",
    "    output K\n",
    "endwhile\n",
    "``` \n",
    "\n",
    " Ahora veamos su implementación en Python:"
   ]
  },
  {
   "attachments": {},
   "cell_type": "markdown",
   "metadata": {},
   "source": [
    "# El algoritmo de programación de clave (KSA, Key Scheduling Algorithm)\n",
    "\n",
    "El algoritmo de programación de clave se utiliza para inicializar la permutación en la matriz \"S\". \"keylength\" se define como el número de bytes en la clave y puede estar en el rango 1 ≤ keylength ≤ 256, típicamente entre 5 y 16, correspondiente a una longitud de clave de 40 a 128 bits. En primer lugar, la matriz \"S\" se inicializa en la permutación de identidad. Luego, se procesa S durante 256 iteraciones de manera similar a la PRGA principal, pero también mezcla bytes de la clave al mismo tiempo. E\n",
    "\n",
    "Esto en pseudocódigo resultaría como:\n",
    " ``` \n",
    "for i from 0 to 255\n",
    "S[i] := i\n",
    "endfor\n",
    "j := 0\n",
    "for i from 0 to 255\n",
    "    j := (j + S[i] + key[i mod keylength]) mod 256\n",
    "    swap values of S[i] and S[j]\n",
    "endfor\n",
    " ``` \n",
    "\n",
    " Ahora veamos su equivalente en Python:"
   ]
  },
  {
   "cell_type": "code",
   "execution_count": 50,
   "metadata": {},
   "outputs": [],
   "source": [
    "def PRGA(s):\n",
    "    \"\"\"A partir de la permutación S de 256 bytes genera un stream pseudoaleatorio.\"\"\"\n",
    "    i = 0\n",
    "    j = 0\n",
    "    while True:\n",
    "        i = (i + 1) % 256\n",
    "        j = (j + s[i]) % 256\n",
    "        s[i], s[j] = s[j], s[i] # Intercambia valores entre S[i] y S[j]\n",
    "        K = s[(s[i] + s[j]) % 256]\n",
    "        yield K # Generador a la salida conforme se necesiten bits."
   ]
  },
  {
   "attachments": {},
   "cell_type": "markdown",
   "metadata": {},
   "source": [
    "# Probando funcionamiento con vectores de prueba\n",
    "\n",
    "Ahora, utilizaremos los siguientes vectores de prueba para verificar el funcionamiento de la implementación de RC4 realizada:\n",
    "\n",
    "| Clave | Flujo de clave | Texto plano | Criptograma\n",
    "| --- | --- | --- | --- |\n",
    "| Key | EB9F7781B734CA72A719 | Plaintext | BBF316E8D940AF0AD3 |\n",
    "| Wiki | 6044DB6D41B7 | pedia | 1021BF0420 |\n",
    "| Secret | 04D46B053CA87B59 | Attack at dawn | 45A01F645FC35B383552544B9BF5 |\n",
    "\n",
    "Generaremos una función adicional que implemente los bloques anteriormente descritos y la probaremos con los casos de prueba:"
   ]
  },
  {
   "cell_type": "code",
   "execution_count": 60,
   "metadata": {},
   "outputs": [
    {
     "name": "stdout",
     "output_type": "stream",
     "text": [
      "Claves en Hexadecimal: b'Key' b'Wiki' b'Secret'\n",
      "Textos claros en Hexadecimal: b'Plaintext' b'pedia' b'Attack at dawn'\n",
      "\n",
      "Iniciando cifrado con RC4...\n",
      "\n",
      "Pass! Resultado: BBF316E8D940AF0AD3\n",
      "Pass! Resultado: 1021BF0420\n",
      "Pass! Resultado: 45A01F645FC35B383552544B9BF5\n"
     ]
    }
   ],
   "source": [
    "def RC4 (clave, textoplano):\n",
    "    \"\"\"Realiza el cifrado con RC4 de un mensaje en claro.\"\"\"\n",
    "    s = KSA(clave)\n",
    "    flujoclave = PRGA(s)\n",
    "    cifrado = bytes([p ^ next(flujoclave) for p in textoplano])\n",
    "    return cifrado.hex().upper()\n",
    "\n",
    "# Transformamos todos a un flujo de bits hexadecimal. \n",
    "key1 = \"Key\".encode('utf-8')\n",
    "key1 = bytes.fromhex(key1.hex().upper())\n",
    "text1 = \"Plaintext\".encode('utf-8')\n",
    "text1 = bytes.fromhex(text1.hex().upper())\n",
    "\n",
    "key2 = \"Wiki\".encode('utf-8')\n",
    "key2 = bytes.fromhex(key2.hex().upper())\n",
    "text2 = \"pedia\".encode('utf-8')\n",
    "text2 = bytes.fromhex(text2.hex().upper())\n",
    "\n",
    "key3 = \"Secret\".encode('utf-8')\n",
    "key3 = bytes.fromhex(key3.hex().upper())\n",
    "text3 = \"Attack at dawn\".encode('utf-8')\n",
    "text3 = bytes.fromhex(text3.hex().upper())\n",
    "\n",
    "print(\"Claves en Hexadecimal:\", key1, key2, key3)\n",
    "print(\"Textos claros en Hexadecimal:\", text1, text2, text3)\n",
    "\n",
    "# Pruebas unitarias.\n",
    "print(\"\\nIniciando cifrado con RC4...\\n\")\n",
    "\n",
    "assert RC4(key1, text1) == 'BBF316E8D940AF0AD3'\n",
    "print(\"Pass! Resultado:\", RC4(key1, text1))\n",
    "assert RC4(key2, text2) == '1021BF0420'\n",
    "print(\"Pass! Resultado:\", RC4(key2, text2))\n",
    "assert RC4(key3, text3) == '45A01F645FC35B383552544B9BF5'\n",
    "print(\"Pass! Resultado:\", RC4(key3, text3))"
   ]
  }
 ],
 "metadata": {
  "kernelspec": {
   "display_name": "base",
   "language": "python",
   "name": "python3"
  },
  "language_info": {
   "codemirror_mode": {
    "name": "ipython",
    "version": 3
   },
   "file_extension": ".py",
   "mimetype": "text/x-python",
   "name": "python",
   "nbconvert_exporter": "python",
   "pygments_lexer": "ipython3",
   "version": "3.9.13"
  },
  "orig_nbformat": 4
 },
 "nbformat": 4,
 "nbformat_minor": 2
}
